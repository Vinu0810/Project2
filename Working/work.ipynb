{
 "cells": [
  {
   "cell_type": "code",
   "execution_count": 1,
   "id": "3f83ed55",
   "metadata": {},
   "outputs": [
    {
     "name": "stderr",
     "output_type": "stream",
     "text": [
      "/opt/anaconda3/lib/python3.11/site-packages/pydub/utils.py:170: RuntimeWarning: Couldn't find ffmpeg or avconv - defaulting to ffmpeg, but may not work\n",
      "  warn(\"Couldn't find ffmpeg or avconv - defaulting to ffmpeg, but may not work\", RuntimeWarning)\n"
     ]
    }
   ],
   "source": [
    "import tkinter as tk\n",
    "import customtkinter as ctk \n",
    "\n",
    "import torch\n",
    "import numpy as np\n",
    "\n",
    "import cv2\n",
    "from PIL import Image, ImageTk\n",
    "import vlc\n",
    "from pydub.playback import play\n",
    "\n",
    "import random"
   ]
  },
  {
   "cell_type": "code",
   "execution_count": null,
   "id": "5432275f",
   "metadata": {},
   "outputs": [
    {
     "name": "stderr",
     "output_type": "stream",
     "text": [
      "Downloading: \"https://github.com/ultralytics/yolov5/zipball/master\" to /Users/vishnu/.cache/torch/hub/master.zip\n",
      "YOLOv5 🚀 2024-4-27 Python-3.11.7 torch-2.3.0 CPU\n",
      "\n",
      "Fusing layers... \n",
      "Model summary: 157 layers, 7055974 parameters, 0 gradients, 15.9 GFLOPs\n",
      "Adding AutoShape... \n"
     ]
    }
   ],
   "source": [
    "app = tk.Tk()\n",
    "app.geometry(\"600x600\")\n",
    "app.title(\"DD\")\n",
    "ctk.set_appearance_mode(\"dark\")\n",
    "\n",
    "vidFrame = tk.Frame(height = 480, width = 600)\n",
    "vidFrame.pack()\n",
    "vid = ctk.CTkLabel(vidFrame)\n",
    "vid.pack()\n",
    "\n",
    "counter = 0\n",
    "\n",
    "counterLabel = ctk.CTkLabel(master=vidFrame, text=counter, height=40, width=120, font=(\"Arial\", 20), text_color=\"white\", fg_color=\"teal\")\n",
    "counterLabel.pack(pady=10)\n",
    "\n",
    "\n",
    "def reset_counter():\n",
    "    global counter\n",
    "    counter = 0\n",
    "\n",
    "resetButton = ctk.CTkButton(master=vidFrame, text=\"Reset Counter\", command=reset_counter, height=40, width=120, font=(\"Arial\", 20), text_color=\"white\", fg_color=\"teal\")\n",
    "resetButton.pack()\n",
    "\n",
    "\n",
    "\n",
    "model = torch.hub.load('ultralytics/yolov5', 'custom', path='yolov5/runs/train/exp14/weights/last.pt', force_reload=True)\n",
    "cap = cv2.VideoCapture(0)\n",
    "\n",
    "def detect():\n",
    "    global counter\n",
    "    p = vlc.MediaPlayer(f\"3.mp3\")\n",
    "    ret, frame = cap.read()\n",
    "    frame = cv2.cvtColor(frame, cv2.COLOR_BGR2RGB)\n",
    "    results = model(frame)\n",
    "    img = np.squeeze(results.render())\n",
    "    \n",
    "    if len(results.xywh[0]) > 0: \n",
    "        dconf = results.xywh[0][0][4]\n",
    "        dclass = results.xywh[0][0][5]\n",
    "\n",
    "        if dconf.item() > 0.30 and dclass.item() == 16.0:\n",
    "            #print(\"yes\")\n",
    "            if counter > 5:\n",
    "                p.play() \n",
    "            counter += 1\n",
    "\n",
    "        if dconf.item() > 0.30 and dclass.item() == 15.0:\n",
    "            p.stop()\n",
    "            reset_counter()\n",
    "            \n",
    "\n",
    "    \n",
    "    imgarr  = Image.fromarray(img)\n",
    "    imgtk = ImageTk.PhotoImage(imgarr)\n",
    "    vid.imgtk = imgtk\n",
    "    vid.configure(image = imgtk)\n",
    "    vid.after(10, detect)\n",
    "    counterLabel.configure(text=counter)\n",
    "    \n",
    "detect()\n",
    "app.mainloop()"
   ]
  },
  {
   "cell_type": "code",
   "execution_count": null,
   "id": "36cbffaa",
   "metadata": {},
   "outputs": [],
   "source": []
  }
 ],
 "metadata": {
  "kernelspec": {
   "display_name": "Python 3 (ipykernel)",
   "language": "python",
   "name": "python3"
  },
  "language_info": {
   "codemirror_mode": {
    "name": "ipython",
    "version": 3
   },
   "file_extension": ".py",
   "mimetype": "text/x-python",
   "name": "python",
   "nbconvert_exporter": "python",
   "pygments_lexer": "ipython3",
   "version": "3.11.7"
  }
 },
 "nbformat": 4,
 "nbformat_minor": 5
}
